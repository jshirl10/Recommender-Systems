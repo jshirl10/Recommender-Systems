{
 "cells": [
  {
   "cell_type": "markdown",
   "id": "d1b69269",
   "metadata": {},
   "source": [
    "# User-based Collaborative Filtering"
   ]
  },
  {
   "cell_type": "markdown",
   "id": "63a4d101",
   "metadata": {},
   "source": [
    "Collaborative filtering is a method that can be used when building a recommender system. Collaborative filtering is the process of using data about a pool of users to recommend items to a specific user. This collaborative filtering comes in two flavors: user-based or item-based. \n",
    "- **User-based collborative filtering** is when you find users that are similar to a specific user. Then, items that are well-liked by the other users are recommended to the specific user. \n",
    "- **Item-based collaborative filtering** is when you find an item that a specific user likes. With that information, you can find other users who liked the same item and then recommend to the specific user additional items that were liked by the other users.\n",
    "\n",
    "In this notebook, we'll look at the MovieLens 100k dataset. This is a dataset that has many users and their ratings of various movies. We'll perform user-based collaborative filtering. That is, we will identify users who gave similar movie ratings and then recommend movies that any given user may like and has not yet seen/rated."
   ]
  },
  {
   "cell_type": "markdown",
   "id": "40c9066e",
   "metadata": {},
   "source": [
    "## Try it!"
   ]
  },
  {
   "cell_type": "code",
   "execution_count": 143,
   "id": "71f64df8",
   "metadata": {},
   "outputs": [
    {
     "name": "stdout",
     "output_type": "stream",
     "text": [
      "View your top recommended movies!\n",
      "\n",
      "User IDs are numbers from 1-943.\n",
      "Input a User ID: 943\n",
      "\n",
      "Some of User 943's favorite movies are:\n",
      "\n",
      "GoldenEye (1995)\n",
      "Usual Suspects, The (1995)\n",
      "Clerks (1994)\n",
      "Professional, The (1994)\n",
      "Pulp Fiction (1994)\n",
      "Shawshank Redemption, The (1994)\n",
      "Forrest Gump (1994)\n",
      "Fugitive, The (1993)\n",
      "True Romance (1993)\n",
      "Silence of the Lambs, The (1991)\n",
      "\n",
      "The top 10 recommended movies for User 943 are:\n",
      "\n",
      "Braveheart (1995)\n",
      "Empire Strikes Back, The (1980)\n",
      "Terminator 2: Judgment Day (1991)\n",
      "Schindler's List (1993)\n",
      "Star Wars (1977)\n",
      "Seven (Se7en) (1995)\n",
      "Raiders of the Lost Ark (1981)\n",
      "Aladdin (1992)\n",
      "Return of the Jedi (1983)\n",
      "Twelve Monkeys (1995)\n"
     ]
    }
   ],
   "source": [
    "print(\"View your top recommended movies!\\n\")\n",
    "\n",
    "print(\"User IDs are numbers from 1-943.\")\n",
    "while True:\n",
    "    try:\n",
    "        user_id = int(input(\"Input a User ID: \"))\n",
    "        if 1 <= user_id <= 943:\n",
    "            break\n",
    "        else:\n",
    "            print(\"Input out of range. Please try again.\")\n",
    "    except ValueError:\n",
    "        print(\"Invalid input. Please enter an integer.\")\n",
    "\n",
    "print(f\"\\nSome of User {user_id}'s favorite movies are:\\n\")\n",
    "for i in top_user_movies[user_id][:10]:\n",
    "    print(movie_details[movie_details['movie_id'] == i]['movie_title'].iloc[0])\n",
    "\n",
    "print(f\"\\nThe top 10 recommended movies for User {user_id} are:\\n\")\n",
    "for i in top_unwatched_recommended_movies[user_id][:10]:\n",
    "    print(movie_details[movie_details['movie_id'] == i]['movie_title'].iloc[0])"
   ]
  },
  {
   "cell_type": "markdown",
   "id": "7db440d5",
   "metadata": {},
   "source": [
    "## Logic Used"
   ]
  },
  {
   "cell_type": "markdown",
   "id": "572f574e",
   "metadata": {},
   "source": [
    "### Imports"
   ]
  },
  {
   "cell_type": "code",
   "execution_count": 103,
   "id": "c5e8fffb",
   "metadata": {},
   "outputs": [],
   "source": [
    "import pandas as pd\n",
    "from sklearn.metrics.pairwise import cosine_similarity\n",
    "from collections import Counter"
   ]
  },
  {
   "cell_type": "markdown",
   "id": "7cbe60ad",
   "metadata": {},
   "source": [
    "### Data Ingestion\n",
    "\n",
    "Data is pulled into an Excel doc for this project. Movie ratings, movie details, and user details are on three different tabs"
   ]
  },
  {
   "cell_type": "code",
   "execution_count": 104,
   "id": "f7dee7ba",
   "metadata": {},
   "outputs": [],
   "source": [
    "movie_ratings = pd.read_excel('MovieLens 100k Dataset.xlsx', sheet_name = 0)\n",
    "movie_details = pd.read_excel('MovieLens 100k Dataset.xlsx', sheet_name = 1)\n",
    "user_details = pd.read_excel('MovieLens 100k Dataset.xlsx', sheet_name = 2)"
   ]
  },
  {
   "cell_type": "markdown",
   "id": "0ce66cc9",
   "metadata": {},
   "source": [
    "### User Similarity\n",
    "First, I created a matrix with user IDs in the rows and movie IDs in the columns. The values in the matrix are the rating that a user gave to a movie. It is assumed in this dataset that a user has rated every movie that they have watched. If a movie is unwatched, it will have a value of 0 in the matrix.\n",
    "\n",
    "User similarity is then calculated by using cosine similarity. Cosine similarity looks at the user vectors and provides a score from 0 to 1 in likeness of direction of a user's vector to other users."
   ]
  },
  {
   "cell_type": "code",
   "execution_count": 105,
   "id": "861476a6",
   "metadata": {},
   "outputs": [],
   "source": [
    "user_movie_matrix = pd.pivot_table(movie_ratings, values='rating', index='user_id', columns='movie_id', fill_value=0)\n",
    "\n",
    "cosine_sim = cosine_similarity(user_movie_matrix)\n",
    "user_cosine_sim = pd.DataFrame(cosine_sim, index=user_movie_matrix.index, columns=user_movie_matrix.index)"
   ]
  },
  {
   "cell_type": "markdown",
   "id": "c4625983",
   "metadata": {},
   "source": [
    "### Find Top Similar Users\n",
    "Next, for every user, I am finding the top 10 users in simlarity score. I am storing this information in a dictionary."
   ]
  },
  {
   "cell_type": "code",
   "execution_count": 106,
   "id": "362cf89c",
   "metadata": {},
   "outputs": [],
   "source": [
    "top_similar_users = {}\n",
    "for index, user_similarities in user_cosine_sim.iterrows():\n",
    "    sorted_similarities = user_similarities.sort_values(ascending=False)\n",
    "    top10_similar_users = sorted_similarities.drop(index).index[:10]\n",
    "    top_similar_users[index] = list(top10_similar_users)"
   ]
  },
  {
   "cell_type": "markdown",
   "id": "085b21fe",
   "metadata": {},
   "source": [
    "### Find Top Movie by User\n",
    "Here I am finding the top movies (those that are rated a 5) for each user and storing them in another dictionary."
   ]
  },
  {
   "cell_type": "code",
   "execution_count": 107,
   "id": "b0a87dbd",
   "metadata": {},
   "outputs": [],
   "source": [
    "top_user_movies = {}\n",
    "for user_id, row in user_movie_matrix.iterrows():\n",
    "    user_rated_movies = user_movie_matrix.loc[user_id]\n",
    "    user_rated_movies = user_rated_movies[user_rated_movies == 5].index[:]\n",
    "    top_user_movies[user_id] = list(user_rated_movies)"
   ]
  },
  {
   "cell_type": "markdown",
   "id": "a519348e",
   "metadata": {},
   "source": [
    "### Find All Recommended Movies\n",
    "Then, I am going through each user's similar users and creating a list that tracks all top movies (rated a 5/5) liked by the similar users. This, again, is stored in a dictionary."
   ]
  },
  {
   "cell_type": "code",
   "execution_count": 108,
   "id": "c256494e",
   "metadata": {},
   "outputs": [],
   "source": [
    "top_recommended_movies = {}\n",
    "for user_id, user_similar_users in top_similar_users.items():\n",
    "    movie_list_temp = []\n",
    "    for similar_user_id in user_similar_users:\n",
    "        movie_list_temp.append(top_user_movies[similar_user_id])\n",
    "    movie_counter = Counter([movie_id for movie_sublist in movie_list_temp for movie_id in movie_sublist])\n",
    "    sorted_movie_list = sorted(movie_counter.keys(), key=lambda x: (movie_counter[x]), reverse=True)\n",
    "    top_recommended_movies[user_id] = sorted_movie_list"
   ]
  },
  {
   "cell_type": "markdown",
   "id": "a6ba8e80",
   "metadata": {},
   "source": [
    "### Find Unwatched Recommended Movies\n",
    "Finally, now we have a list of a user's already watched movies and a list of that user's recommended movies from similar users. \n",
    "We don't want to recommend movies that the given user has already seen, so we remove those from the recommended movies list."
   ]
  },
  {
   "cell_type": "code",
   "execution_count": 109,
   "id": "e4c946c7",
   "metadata": {},
   "outputs": [],
   "source": [
    "top_unwatched_recommended_movies = {}\n",
    "for user_id, values in top_recommended_movies.items():\n",
    "    top_unwatched_recommended_movies[user_id] = [item for item in top_recommended_movies[user_id] if item not in top_user_movies[user_id]]"
   ]
  }
 ],
 "metadata": {
  "kernelspec": {
   "display_name": "Python 3 (ipykernel)",
   "language": "python",
   "name": "python3"
  },
  "language_info": {
   "codemirror_mode": {
    "name": "ipython",
    "version": 3
   },
   "file_extension": ".py",
   "mimetype": "text/x-python",
   "name": "python",
   "nbconvert_exporter": "python",
   "pygments_lexer": "ipython3",
   "version": "3.9.7"
  }
 },
 "nbformat": 4,
 "nbformat_minor": 5
}
