{
 "cells": [
  {
   "attachments": {},
   "cell_type": "markdown",
   "metadata": {},
   "source": [
    "# Item-based Collaborative Filtering"
   ]
  },
  {
   "attachments": {},
   "cell_type": "markdown",
   "metadata": {},
   "source": [
    "Collaborative filtering is a method that can be used when building a recommender system. Collaborative filtering is the process of using data about a pool of users to recommend items to a specific user. This collaborative filtering comes in two flavors: user-based or item-based. \n",
    "- **User-based collborative filtering** is when you find users that are similar to a specific user. Then, items that are well-liked by the other users are recommended to the specific user. \n",
    "- **Item-based collaborative filtering** is when you find an item that a specific user likes. With that information, you can find other users who liked the same item and then recommend to the specific user additional items that were liked by the other users.\n",
    "\n",
    "In this notebook, we'll look at the MovieLens 100k dataset. This is a dataset that has many users and their ratings of various movies. We'll perform item-based collaborative filtering. "
   ]
  },
  {
   "attachments": {},
   "cell_type": "markdown",
   "metadata": {},
   "source": [
    "## Try it!"
   ]
  },
  {
   "cell_type": "code",
   "execution_count": 62,
   "metadata": {},
   "outputs": [
    {
     "name": "stdout",
     "output_type": "stream",
     "text": [
      "View your top recommended movies!\n",
      "\n",
      "User IDs are numbers from 1-943.\n",
      "\n",
      "Some of User 12's favorite movies are:\n",
      "\n",
      "ID | Title\n",
      "----------\n",
      "4 Get Shorty (1995)\n",
      "15 Mr. Holland's Opus (1995)\n",
      "28 Apollo 13 (1995)\n",
      "69 Forrest Gump (1994)\n",
      "88 Sleepless in Seattle (1993)\n",
      "97 Dances with Wolves (1990)\n",
      "98 Silence of the Lambs, The (1991)\n",
      "132 Wizard of Oz, The (1939)\n",
      "143 Sound of Music, The (1965)\n",
      "157 Platoon (1986)\n",
      "\n",
      "The top similar movies to Wizard of Oz, The (1939) that User 12 has not seen are:\n",
      "\n",
      "423 E.T. the Extra-Terrestrial (1982)\n",
      "496 It's a Wonderful Life (1946)\n",
      "483 Casablanca (1942)\n",
      "135 2001: A Space Odyssey (1968)\n",
      "419 Mary Poppins (1964)\n",
      "357 One Flew Over the Cuckoo's Nest (1975)\n",
      "99 Snow White and the Seven Dwarfs (1937)\n",
      "173 Princess Bride, The (1987)\n",
      "210 Indiana Jones and the Last Crusade (1989)\n",
      "22 Braveheart (1995)\n"
     ]
    }
   ],
   "source": [
    "print(\"View your top recommended movies!\\n\")\n",
    "\n",
    "print(\"User IDs are numbers from 1-943.\")\n",
    "while True:\n",
    "    try:\n",
    "        user_id = int(input(\"Input a User ID: \"))\n",
    "        if 1 <= user_id <= 943:\n",
    "            break\n",
    "        else:\n",
    "            print(\"Input out of range. Please try again.\")\n",
    "    except ValueError:\n",
    "        print(\"Invalid input. Please enter an integer.\")\n",
    "\n",
    "print(f\"\\nSome of User {user_id}'s favorite movies are:\\n\")\n",
    "print(\"ID | Title\")\n",
    "print(\"----------\")\n",
    "for i in top_user_movies[user_id][:10]:\n",
    "    movie = movie_details[movie_details['movie_id'] == i][['movie_id', 'movie_title']].values\n",
    "    print(movie[0][0], movie[0][1])\n",
    "\n",
    "while True:\n",
    "    try:\n",
    "        movie_id = int(input(\"Input a Movie ID to see similar movies: \"))\n",
    "        if 1 <= movie_id <= 1682:\n",
    "            break\n",
    "        else:\n",
    "            print(\"Input out of range. Please try again.\")\n",
    "    except ValueError:\n",
    "        print(\"Invalid input. Please enter an integer.\")\n",
    "\n",
    "print(f\"\\nThe top similar movies to {movie_details.loc[movie_details['movie_id'] == movie_id, 'movie_title'].values[0]} that User {user_id} has not seen are:\\n\")\n",
    "\n",
    "movie_counter = 0\n",
    "for i in top_similar_movies[movie_id][:]:\n",
    "    if movie_counter == 10:\n",
    "        break\n",
    "    user_rated_movies = user_movie_matrix.loc[user_id]\n",
    "    user_rated_movies = list(user_rated_movies[user_rated_movies > 0].index)\n",
    "    if i not in user_rated_movies:\n",
    "        movie = movie_details[movie_details['movie_id'] == i][['movie_id', 'movie_title']].values\n",
    "        print(movie[0][0], movie[0][1])\n",
    "        movie_counter += 1\n",
    "if movie_counter == 0:\n",
    "    print(\"No Suggestions.\")\n"
   ]
  },
  {
   "attachments": {},
   "cell_type": "markdown",
   "metadata": {},
   "source": [
    "## Logic Used"
   ]
  },
  {
   "cell_type": "code",
   "execution_count": 1,
   "metadata": {},
   "outputs": [],
   "source": [
    "import pandas as pd\n",
    "from sklearn.metrics.pairwise import cosine_similarity\n",
    "from collections import Counter"
   ]
  },
  {
   "attachments": {},
   "cell_type": "markdown",
   "metadata": {},
   "source": [
    "### Data Ingestion\n",
    "\n",
    "Data is pulled into an Excel doc for this project. Movie ratings, movie details, and user details are on three different tabs"
   ]
  },
  {
   "cell_type": "code",
   "execution_count": 53,
   "metadata": {},
   "outputs": [],
   "source": [
    "movie_ratings = pd.read_excel('MovieLens 100k Dataset.xlsx', sheet_name = 0)\n",
    "movie_details = pd.read_excel('MovieLens 100k Dataset.xlsx', sheet_name = 1)\n",
    "user_details = pd.read_excel('MovieLens 100k Dataset.xlsx', sheet_name = 2)"
   ]
  },
  {
   "attachments": {},
   "cell_type": "markdown",
   "metadata": {},
   "source": [
    "### Movie Similarity\n",
    "First, I created a matrix with user IDs in the rows and movie IDs in the columns. The values in the matrix are the rating that a user gave to a movie. It is assumed in this dataset that a user has rated every movie that they have watched. If a movie is unwatched, it will have a value of 0 in the matrix.\n",
    "\n",
    "Movie similarity is then calculated by using cosine similarity. Cosine similarity looks at the movie vectors and provides a score from 0 to 1 in likeness of direction of a movie's vector to other movies."
   ]
  },
  {
   "cell_type": "code",
   "execution_count": 54,
   "metadata": {},
   "outputs": [],
   "source": [
    "user_movie_matrix = pd.pivot_table(movie_ratings, values='rating', index='user_id', columns='movie_id', fill_value=0)\n",
    "\n",
    "cosine_sim = cosine_similarity(user_movie_matrix.T)\n",
    "movie_cosine_sim = pd.DataFrame(cosine_sim, index=user_movie_matrix.columns, columns=user_movie_matrix.columns)"
   ]
  },
  {
   "attachments": {},
   "cell_type": "markdown",
   "metadata": {},
   "source": [
    "### Find Top Similar Movies\n",
    "Next, for every movie, I am finding the top 10 movies in simlarity score. I am storing this information in a dictionary."
   ]
  },
  {
   "cell_type": "code",
   "execution_count": 55,
   "metadata": {},
   "outputs": [],
   "source": [
    "top_similar_movies = {}\n",
    "for index, movie_similarities in movie_cosine_sim.iterrows():\n",
    "    sorted_similarities = movie_similarities.sort_values(ascending=False)\n",
    "    top10_similar_movies = sorted_similarities.drop(index).index[:50]\n",
    "    top_similar_movies[index] = list(top10_similar_movies)"
   ]
  },
  {
   "attachments": {},
   "cell_type": "markdown",
   "metadata": {},
   "source": [
    "### Find Top Movie by User\n",
    "Here I am finding the top movies (those that are rated a 5) for each user and storing them in another dictionary."
   ]
  },
  {
   "cell_type": "code",
   "execution_count": 57,
   "metadata": {},
   "outputs": [],
   "source": [
    "top_user_movies = {}\n",
    "for user_id, row in user_movie_matrix.iterrows():\n",
    "    user_rated_movies = user_movie_matrix.loc[user_id]\n",
    "    user_rated_movies = user_rated_movies[user_rated_movies == 5].index[:]\n",
    "    top_user_movies[user_id] = list(user_rated_movies)"
   ]
  }
 ],
 "metadata": {
  "kernelspec": {
   "display_name": "base",
   "language": "python",
   "name": "python3"
  },
  "language_info": {
   "codemirror_mode": {
    "name": "ipython",
    "version": 3
   },
   "file_extension": ".py",
   "mimetype": "text/x-python",
   "name": "python",
   "nbconvert_exporter": "python",
   "pygments_lexer": "ipython3",
   "version": "3.9.13"
  },
  "orig_nbformat": 4
 },
 "nbformat": 4,
 "nbformat_minor": 2
}
